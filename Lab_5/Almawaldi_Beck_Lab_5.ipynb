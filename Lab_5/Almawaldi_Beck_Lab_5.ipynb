{
 "cells": [
  {
   "cell_type": "markdown",
   "id": "cff576cd",
   "metadata": {},
   "source": [
    "# Lab 5: Working with Selenium"
   ]
  },
  {
   "cell_type": "code",
   "execution_count": 11,
   "id": "1f36df2d",
   "metadata": {
    "scrolled": true
   },
   "outputs": [
    {
     "name": "stdout",
     "output_type": "stream",
     "text": [
      "Tech With Tim - Python & Java Programming Tutorials - techwithtim.net\n",
      "SEARCH RESULTS FOR: TEST\n",
      "November 4, 2019\n",
      "HTTP MethodsIn this tutorial we will talk about HTTP methods. HTTP methods are the standard way of sending information to and from a web server. To break it down, a website runs on a server or multiple servers and simple returns information to a client (web-browser). Information is exchanged between the client and the server […]\n",
      "November 4, 2019\n",
      "Creating a Base Template So you may have realized that creating new web pages for every single page on our website is extremely inefficient. Especially when our website follows a theme and has similar elements (like a sidebar) on every page. This is where template inheritance comes in. We will talk about how to inherit […]\n",
      "October 29, 2019\n",
      "Redirecting ContinuedStarting from where we left off in the last tutorial. I wanted to show how to redirect to a function that takes an argument (like our user function). To do this we simply need to define the parameter name and a value in the url_for function, like below.from flask import Flask, redirect, url_for app […]\n",
      "October 28, 2019\n",
      "What is Flask?Flask is a known as a micro web framework. This means it provides some basic functionality to allow developers to build simple websites. It does not come with all the bells and whistles like some other web frameworks like django have and therefore is typically not used for complex websites. However, there is […]\n",
      "September 8, 2019\n",
      "Up until this point we have only been able to get events the next upcoming events from our google calendar. In this tutorial I will show you how you can retrieve a list of events that occur in one day. Using Pyttsx3 In the previous tutorials we used gTTS (Google Text-to-Speech) to output audio and […]\n",
      "September 8, 2019\n",
      "In this tutorial we will finish our get_date() function and test it out! PLEASE USE THE CODE BELOW, IT FIXES SOME ERRORS FROM THE VIDEO ABOVE Finishing get_date() Now that we have extracted the information from the text it’s time to process it. There are a few scenarios we need to consider: 1. We have […]\n",
      "September 4, 2019\n",
      "Getting User Input In the last tutorial we learned how to output sound from our python script using the gTTS module. In this video we will do the opposite, we will get user input and turn it into text data that we can process. Let’s get started by creating a function called get_audio. def get_audio(): […]\n",
      "July 19, 2019\n",
      "This PyQt5 Tutorial will show you how to create message boxes/popup windows using pyqt. We will use the QMessageBox class to accomplish this. Creating a Basic GUI I’ve started this tutorial by creating a very minimal GUI that contains one button. This way we can use the button press to trigger a popup/mesagebox. This is […]\n",
      "July 18, 2019\n",
      "This PyQt5 Combobox tutorial will show how to create, use and manipulate comboboxes. For those of you unaware a combobox is a box that allows you to choose an item from a list of choices. Creating The GUI For this tutorial we will create a GUI that can simulate the XOR function. We will use […]\n",
      "July 11, 2019\n",
      "This PyQt5 tutorial will show you how to display images using something called a QPixmap. Displaying an Image For this tutorial we will create an image using PyQt Designer and then change them image source from our python code. To display an image we can actually use a label! We will start by dragging in […]\n",
      "Posts navigation\n",
      "1 2 … 4 Next →\n",
      "Search for:\n",
      "HTTP MethodsIn this tutorial we will talk about HTTP methods. HTTP methods are the standard way of sending information to and from a web server. To break it down, a website runs on a server or multiple servers and simple returns information to a client (web-browser). Information is exchanged between the client and the server […]\n",
      "Creating a Base Template So you may have realized that creating new web pages for every single page on our website is extremely inefficient. Especially when our website follows a theme and has similar elements (like a sidebar) on every page. This is where template inheritance comes in. We will talk about how to inherit […]\n",
      "Redirecting ContinuedStarting from where we left off in the last tutorial. I wanted to show how to redirect to a function that takes an argument (like our user function). To do this we simply need to define the parameter name and a value in the url_for function, like below.from flask import Flask, redirect, url_for app […]\n",
      "What is Flask?Flask is a known as a micro web framework. This means it provides some basic functionality to allow developers to build simple websites. It does not come with all the bells and whistles like some other web frameworks like django have and therefore is typically not used for complex websites. However, there is […]\n",
      "Up until this point we have only been able to get events the next upcoming events from our google calendar. In this tutorial I will show you how you can retrieve a list of events that occur in one day. Using Pyttsx3 In the previous tutorials we used gTTS (Google Text-to-Speech) to output audio and […]\n",
      "In this tutorial we will finish our get_date() function and test it out! PLEASE USE THE CODE BELOW, IT FIXES SOME ERRORS FROM THE VIDEO ABOVE Finishing get_date() Now that we have extracted the information from the text it’s time to process it. There are a few scenarios we need to consider: 1. We have […]\n",
      "Getting User Input In the last tutorial we learned how to output sound from our python script using the gTTS module. In this video we will do the opposite, we will get user input and turn it into text data that we can process. Let’s get started by creating a function called get_audio. def get_audio(): […]\n",
      "This PyQt5 Tutorial will show you how to create message boxes/popup windows using pyqt. We will use the QMessageBox class to accomplish this. Creating a Basic GUI I’ve started this tutorial by creating a very minimal GUI that contains one button. This way we can use the button press to trigger a popup/mesagebox. This is […]\n",
      "This PyQt5 Combobox tutorial will show how to create, use and manipulate comboboxes. For those of you unaware a combobox is a box that allows you to choose an item from a list of choices. Creating The GUI For this tutorial we will create a GUI that can simulate the XOR function. We will use […]\n",
      "This PyQt5 tutorial will show you how to display images using something called a QPixmap. Displaying an Image For this tutorial we will create an image using PyQt Designer and then change them image source from our python code. To display an image we can actually use a label! We will start by dragging in […]\n"
     ]
    }
   ],
   "source": [
    "from selenium import webdriver\n",
    "from selenium.webdriver.chrome.service import Service\n",
    "\n",
    "from selenium.webdriver.common.keys import Keys\n",
    "from selenium.webdriver.common.by import By\n",
    "\n",
    "PATH = Service(\"C:\\Program Files (x86)\\chromedriver.exe\")\n",
    "driver = webdriver.Chrome(service = PATH)\n",
    "\n",
    "url = \"https://www.techwithtim.net/\" \n",
    "driver.get(url)\n",
    "#driver.close() #closes tab\n",
    "#driver.quit() #closes browser\n",
    "print(driver.title)\n",
    "\n",
    "search = driver.find_element(By.NAME, \"s\")\n",
    "search.clear()\n",
    "search.send_keys(\"test\")\n",
    "search.send_keys(Keys.RETURN)\n",
    "\n",
    "#print(driver.page_source) #prints the HTML -> you can do the same thing with BeautifulSoup\n",
    "from selenium.webdriver.support.ui import WebDriverWait\n",
    "from selenium.webdriver.support import expected_conditions as EC\n",
    "\n",
    "try:\n",
    "    main = WebDriverWait(driver, 10).until(EC.presence_of_element_located((By.ID,\"main\")))\n",
    "    print(main.text)\n",
    "    \n",
    "    articles = main.find_elements(By.TAG_NAME, \"article\")\n",
    "    \n",
    "    for i in articles:\n",
    "        header = i.find_element(By.CLASS_NAME, \"entry-summary\")\n",
    "        print(header.text)\n",
    "\n",
    "finally:\n",
    "    driver.quit()"
   ]
  },
  {
   "cell_type": "markdown",
   "id": "1884859f",
   "metadata": {},
   "source": [
    "# Post Lab"
   ]
  },
  {
   "cell_type": "markdown",
   "id": "a2400ae3",
   "metadata": {},
   "source": [
    "- Follow the 3rd Selenium tutorial on your own. Submit the correct code with comments explaining what each element is doing (5pts)"
   ]
  },
  {
   "cell_type": "code",
   "execution_count": null,
   "id": "ce9bd7f1",
   "metadata": {},
   "outputs": [],
   "source": [
    "#Initializing Imports\n",
    "from selenium import webdriver\n",
    "from selenium.webdriver.chrome.service import Service\n",
    "from selenium.webdriver.common.keys import Keys\n",
    "from selenium.webdriver.common.by import By\n",
    "from selenium.webdriver.support.ui import WebDriverWait\n",
    "from selenium.webdriver.support import expected_conditions as EC\n",
    "\n",
    "PATH = Service(\"C:\\Program Files (x86)\\chromedriver.exe\")\n",
    "driver = webdriver.Chrome(service = PATH)\n",
    "\n",
    "driver.get(\"https://www.techwithtim.net/\" )\n",
    "\n",
    "link = driver.find_element(By.LINK_TEXT,\"Python Programming\")\n",
    "link.click()\n",
    "\n",
    "try:\n",
    "    element = WebDriverWait(driver, 10).until(EC.presence_of_element_located((By.LINK_TEXT, \"Beginner Python Tutorials\")))\n",
    "    element.click()\n",
    "    \n",
    "    element = WebDriverWait(driver, 10).until(EC.presence_of_element_located((By.ID, \"sow-button-19310003\")))\n",
    "    element.click()\n",
    "    \n",
    "    driver.back()\n",
    "    driver.back()\n",
    "    driver.back()\n",
    "    driver.forward()\n",
    "    driver.forward()\n",
    "    \n",
    "except:\n",
    "    driver.quit()"
   ]
  },
  {
   "cell_type": "markdown",
   "id": "df110f3f",
   "metadata": {},
   "source": [
    "- Take what we learned today & try to scrape another website. (5pts) Here are three options (choose 1): \n",
    "  - Use the website https://hoopshype.com/ – use Selenium to open up the page salaries > players & scrape the players salaries. Store the data in a csv file \n",
    "  - Use selenium to search https://www.wikipedia.org/ for the word “cat” and then scrape the url links to all the images on the page. Store those in a csv file. (Bonus 1pt can you add the https:// part of the url to the links so they are clickable)\n",
    "  - Go to https://data.gov/ and use selenium to click the data button - then use it to type in “climate change” into the search bar. Scrape the titles and descriptions of the results that come up. Store them in a CSV file"
   ]
  },
  {
   "cell_type": "code",
   "execution_count": 4,
   "id": "e30cd6b1",
   "metadata": {},
   "outputs": [
    {
     "name": "stdout",
     "output_type": "stream",
     "text": [
      "Food Price Outlook Department of Agriculture — The Consumer Price Index (CPI) for food is a component of the all-items CPI. The CPI measures the average change over time in the prices paid by urban consumers for a...\n",
      "National Flood Hazard Layer (NFHL) Federal Emergency Management Agency, Department of Homeland Security — The National Flood Hazard Layer (NFHL) is a compilation of GIS data that comprises a nationwide digital Flood Insurance Rate Map. The GIS data and services are...\n",
      "US EPA Nonattainment Areas and Designations U.S. Environmental Protection Agency — This web service contains the following state level layers:Ozone 8-hr (1997 standard), Ozone 8-hr (2008 standard), Lead (2008 standard), SO2 1-hr (2010 standard),...\n",
      "U.S. Local Climatological Data (LCD) National Oceanic and Atmospheric Administration, Department of Commerce — Local Climatological Data (LCD) are summaries of climatological conditions from airport and other prominent weather stations managed by NWS, FAA, and DOD. The product...\n",
      "U.S. Crude Oil, Natural Gas, and Natural Gas Liquids Reserves Department of Energy — Annual data on proved reserves of crude oil, natural gas, and natural gas liquids in the U.S. Based on EIA Form-23L data. Proved reserves are estimated volumes of...\n",
      "The EPA Automotive Trends Report: Greenhouse Gas Emissions, Fuel Economy, and Technology since 1975 U.S. Environmental Protection Agency — This annual report is part of the U.S. Environmental Protection Agency’s (EPA) commitment to provide the public with information about new light-duty vehicle...\n",
      "National Greenhouse Gas Emission Inventory U.S. Environmental Protection Agency — The National Greenhouse Gas Emission Inventory contains information on direct emissions of greenhouse gases as well as indirect or potential emissions of greenhouse...\n",
      "U.S. Billion-dollar Weather and Climate Disasters, 1980 - present (NCEI Accession 0209268) National Oceanic and Atmospheric Administration, Department of Commerce — This NCEI accession contains U.S. disaster cost assessments of the total, direct losses ($) inflicted by: tropical cyclones, inland floods, drought & heat waves,...\n",
      "Commercial and Residential Hourly Load Profiles for all TMY3 Locations in the United States Department of Energy — Note: This dataset has been superseded by the dataset found at \"End-Use Load Profiles for the U.S. Building Stock\" (submission 4520; linked in the submission...\n",
      "NOAA Digital Coast Sea Level Rise and Coastal Flooding Impacts Viewer National Oceanic and Atmospheric Administration, Department of Commerce — The Sea Level Rise and Coastal Flooding Impacts Viewer depicts potential sea level rise and its associated impacts on the nation's coastal areas. These coastal areas...\n",
      "Report on U.S. Methane Emissions 1990-2020: Inventories, Projections, and Opportunities for Reductions: 2001 Updated emission and cost estimates U.S. Environmental Protection Agency — This dataset contains relative and absolute forecasts of emissions through 2020 for landfills, natural gas and oil systems, coal mines, manure management and enteric...\n",
      "Clean Air Status and Trends Network (CASTNET) Download Data Module U.S. Environmental Protection Agency — The CASTNET Download Data module allows users to select, view, and download CASTNET data (Raw, Aggregate, Modeled & Factual Data) based on user selections....\n",
      "Sea Level Trends: Sea Level Variations of the United States Derived from National Water Level Observation Network Stations National Oceanic and Atmospheric Administration, Department of Commerce — Water level records are a combination of the fluctuations of the ocean and the vertical land motion at the location of the station. Monthly mean sea level (MSL)...\n",
      "Maritime Limits and Boundaries of United States of America National Oceanic and Atmospheric Administration, Department of Commerce — NOAA is responsible for depicting on its nautical charts the limits of the 12 nautical mile Territorial Sea, 24 nautical mile Contiguous Zone, and 200 nautical mile...\n",
      "Emission & Generation Resource Integrated Database (eGRID) U.S. Environmental Protection Agency — The Emissions & Generation Resource Integrated Database (eGRID) is a comprehensive source of data on characteristics of almost all electric power generated in the...\n",
      "USGS Water Use Data for the Nation - National Water Information System (NWIS) Department of the Interior — The U.S. Geological Survey's National Water-Use Information Program is responsible for compiling and disseminating the nation's water-use data. The USGS works in...\n",
      "NACP North American Forest Dynamics Project: Forest Disturbance and Regrowth Data National Aeronautics and Space Administration — This data set provides the results of time-series analyses of Landsat imagery for 55 selected forested sites across the conterminous U.S.A. The output is a pair of...\n",
      "Climate Change Impacts on Air Quality and Human Health U.S. Environmental Protection Agency — This dataset contains modeled temperature, ozone, and PM2.5 data for the United States over the 21st century, using two global climate model scenarios and two...\n",
      "NCEI/WDS Global Historical Tsunami Database, 2100 BC to Present National Oceanic and Atmospheric Administration, Department of Commerce — The Global Historical Tsunami Database provides information on over 2,400 tsunamis from 2100 BC to the present in the the Atlantic, Indian, and Pacific Oceans; and...\n",
      "Change in Snowfall U.S. Environmental Protection Agency — This indicator shows the average rate of change in total snowfall from 1930 to 2007 at 419 weather stations in the contiguous 48 states. Blue circles represent...\n"
     ]
    }
   ],
   "source": [
    "from selenium import webdriver\n",
    "from selenium.webdriver.chrome.service import Service\n",
    "from selenium.webdriver.common.keys import Keys\n",
    "from selenium.webdriver.common.by import By\n",
    "from selenium.webdriver.support.ui import WebDriverWait\n",
    "from selenium.webdriver.support import expected_conditions as EC\n",
    "import csv\n",
    "\n",
    "PATH = Service(\"C:/Program Files (x86)/chromedriver.exe\")\n",
    "driver = webdriver.Chrome(service=PATH)\n",
    "\n",
    "driver.get(\"https://data.gov/\")\n",
    "\n",
    "link = driver.find_element(By.LINK_TEXT,\"DATA\")\n",
    "link.click()\n",
    "\n",
    "search = driver.find_element(By.NAME, \"q\")\n",
    "search.clear() \n",
    "search.send_keys(\"Climate Change\")\n",
    "search.send_keys(Keys.RETURN)\n",
    "\n",
    "csv_file = open(\"Climate Change\", \"w\", newline = \"\", encoding = \"utf-8\")\n",
    "csv_writer = csv.writer(csv_file)\n",
    "csv_writer.writerow([\"Title\", \"Description\"])\n",
    "\n",
    "try:\n",
    "    main = WebDriverWait(driver, 10).until(EC.presence_of_element_located((By.CLASS_NAME, \"module-content\")))\n",
    "    articles = main.find_elements(By.TAG_NAME, \"li\")\n",
    "   \n",
    "    for i,element in enumerate(articles):\n",
    "        if i+1 <= 20:\n",
    "            title = element.find_element(By.XPATH, f\"//*[@id='content']/div[2]/div/section[1]/div[2]/ul/li[{i+1}]/div/h3/a\").text\n",
    "            entry = element.find_element(By.XPATH, f\"//*[@id='content']/div[2]/div/section[1]/div[2]/ul/li[{i+1}]/div/div[2]\").text\n",
    "            csv_writer.writerow([title, entry])\n",
    "        else:\n",
    "            break     \n",
    "\n",
    "finally:\n",
    "    driver.quit()      \n",
    "\n",
    "\n",
    "csv_file.close()\n"
   ]
  },
  {
   "cell_type": "code",
   "execution_count": null,
   "id": "b75d3d4d",
   "metadata": {},
   "outputs": [],
   "source": []
  }
 ],
 "metadata": {
  "kernelspec": {
   "display_name": "Python 3 (ipykernel)",
   "language": "python",
   "name": "python3"
  },
  "language_info": {
   "codemirror_mode": {
    "name": "ipython",
    "version": 3
   },
   "file_extension": ".py",
   "mimetype": "text/x-python",
   "name": "python",
   "nbconvert_exporter": "python",
   "pygments_lexer": "ipython3",
   "version": "3.9.12"
  }
 },
 "nbformat": 4,
 "nbformat_minor": 5
}
