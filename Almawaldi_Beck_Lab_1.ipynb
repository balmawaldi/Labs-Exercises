{
 "cells": [
  {
   "cell_type": "markdown",
   "id": "727bae9a",
   "metadata": {},
   "source": [
    "# Lab 1: Python Refresher"
   ]
  },
  {
   "cell_type": "code",
   "execution_count": 5,
   "id": "ce05748c",
   "metadata": {},
   "outputs": [
    {
     "name": "stdout",
     "output_type": "stream",
     "text": [
      "You have $3955 in your account.\n",
      "You have $4000 in your account.\n"
     ]
    }
   ],
   "source": [
    "class BankAccount:\n",
    "    def __init__(self, balance):\n",
    "        self.balance = balance\n",
    "        \n",
    "    def account(self):\n",
    "        print(f\"You have ${self.balance} in your account.\")\n",
    "        \n",
    "    def withdraw(self, change):\n",
    "        self.balance -= change\n",
    "        print(f\"You have ${self.balance} in your account.\")\n",
    "    \n",
    "    def deposit(self, change):\n",
    "        self.balance += change\n",
    "        print(f\"You have ${self.balance} in your account.\")\n",
    "        \n",
    "A1 = BankAccount(4000)\n",
    "A1.withdraw(45)\n",
    "A1.deposit(45)"
   ]
  },
  {
   "cell_type": "markdown",
   "id": "90671bbf",
   "metadata": {},
   "source": [
    "# Post Lab"
   ]
  },
  {
   "cell_type": "markdown",
   "id": "4f47876a",
   "metadata": {},
   "source": [
    "1) See the list below. Please write a program that will tell you what the longest word is in the list. Package your program inside of a function.\n",
    "\n",
    "list = [\"apple\", \"chestnut\", \"gargoyle\", \"pandas\", \"sheep\", \"raptor\"]"
   ]
  },
  {
   "cell_type": "code",
   "execution_count": 17,
   "id": "6f11e7f3",
   "metadata": {},
   "outputs": [
    {
     "name": "stdout",
     "output_type": "stream",
     "text": [
      "The longest word(s) in the list are ['chestnut', 'gargoyle'].\n"
     ]
    }
   ],
   "source": [
    "list = [\"apple\", \"chestnut\", \"gargoyle\", \"pandas\", \"sheep\", \"raptor\"]\n",
    "\n",
    "def check_len(words):\n",
    "    word_char = {}\n",
    "    max_len = 0\n",
    "    max_words = [\"temp\"]\n",
    "    for i in words:\n",
    "        word_char[i] = len(i)\n",
    "    for i in word_char:\n",
    "        if word_char[i] > max_len:\n",
    "            max_words[0] = i\n",
    "            max_len = word_char[i]\n",
    "        elif word_char[i] == max_len:\n",
    "            max_words.append(i)\n",
    "    print(f\"The longest word(s) in the list are {max_words}.\")\n",
    "    \n",
    "check_len(list)   "
   ]
  },
  {
   "cell_type": "markdown",
   "id": "ebd00922",
   "metadata": {},
   "source": [
    "2) Now that you have built the program above, in a new cell, edit your program: import a .txt file of a list of words and have your program randomly choose 7 words from the file to add to a list, and then have the program determine the longest word as you did above."
   ]
  },
  {
   "cell_type": "code",
   "execution_count": 69,
   "id": "ae7396a2",
   "metadata": {},
   "outputs": [
    {
     "name": "stdout",
     "output_type": "stream",
     "text": [
      "The longest word(s) in the list are ['threatening', 'shakespeare'].\n",
      "{'terrain': 7, 'midnight': 8, 'threatening': 11, 'texts': 5, 'sink': 4, 'variables': 9, 'shakespeare': 11}\n"
     ]
    }
   ],
   "source": [
    "import random\n",
    "ranword = \"wordlist.10000.txt\"\n",
    "def word_generator():\n",
    "    global word_list\n",
    "    word_list = []\n",
    "    filename = ranword\n",
    "    f = open(filename, \"r\", encoding = \"utf8\")\n",
    "    words = f.readlines()\n",
    "    f.close()\n",
    "    for i in range(7):\n",
    "        word = random.choice(words).strip()\n",
    "        word_list.append(word)\n",
    "word_generator()\n",
    "\n",
    "def check_len(words):\n",
    "    word_char = {}\n",
    "    max_len = 0\n",
    "    max_words = [\"temp\"]\n",
    "    for i in words:\n",
    "        word_char[i] = len(i)\n",
    "    for i in word_char:\n",
    "        if word_char[i] > max_len:\n",
    "            max_len = word_char[i]\n",
    "            max_words[0] = i\n",
    "    for i in word_char:\n",
    "        if word_char[i] == max_len and i not in max_words:\n",
    "            max_words.append(i)\n",
    "    print(f\"The longest word(s) in the list are {max_words}.\")\n",
    "    print(word_char)\n",
    "    \n",
    "check_len(word_list) \n"
   ]
  },
  {
   "cell_type": "markdown",
   "id": "d3605417",
   "metadata": {},
   "source": [
    "3) Pretend that you're going to be leading a review session on dictionaries. Build a program that uses dictionaries and incorporates at least 4 built-in methods. See full list on W3Schools"
   ]
  },
  {
   "cell_type": "code",
   "execution_count": 136,
   "id": "782121bc",
   "metadata": {},
   "outputs": [
    {
     "name": "stdout",
     "output_type": "stream",
     "text": [
      "dict_keys(['bread', 'soup', 'tea', 'rice'])\n",
      "7\n",
      "{'soup': 2, 'tea': 4, 'rice': 5}\n",
      "{}\n"
     ]
    }
   ],
   "source": [
    "my_dict = {\"bread\": 7, \"soup\": 2, \"tea\": 4, \"rice\": 5}\n",
    "\n",
    "class Dict_edits:\n",
    "    def __init__(self,dicts):\n",
    "        self.dicts = dicts\n",
    "    \n",
    "    def clear_list(self):\n",
    "        self.dicts.clear()\n",
    "    \n",
    "    def check_list(self):\n",
    "        return self.dicts.keys()\n",
    "    \n",
    "    def check_price(self, item):\n",
    "        return self.dicts.get(item)\n",
    "    \n",
    "    def remove(self, item):\n",
    "        self.dicts.pop(item)\n",
    "        \n",
    "shop_list = Dict_edits(my_dict)\n",
    "print(shop_list.check_list())\n",
    "print(shop_list.check_price(\"bread\"))\n",
    "shop_list.remove(\"bread\")\n",
    "print(my_dict)\n",
    "shop_list.clear_list()\n",
    "print(my_dict)"
   ]
  },
  {
   "cell_type": "markdown",
   "id": "3eee35e7",
   "metadata": {},
   "source": [
    "4) Using OOP, I want you to build one of the following things. As part of the excerise, please write out your brainstorming process in a comment or markdown cell:\n",
    "   - A system to manage a student's school record (would need a way to gather/store personal information, record grades, record GPA, etc.)\n",
    "   - A class that allows you to create your own flashcards & then allows you to review them (this would work best with language cards - like one word is in Spanish, one in English)\n",
    "   - A class (or series of classes) to correspond with a gameplay (for example, a fighter class, a bard class, a wizard class)"
   ]
  },
  {
   "cell_type": "code",
   "execution_count": 6,
   "id": "c588b0c3",
   "metadata": {},
   "outputs": [
    {
     "name": "stdout",
     "output_type": "stream",
     "text": [
      "PRIMAVERA\n",
      "What is the translation of HELLO?hola\n",
      "Correct!\n",
      "{}\n"
     ]
    }
   ],
   "source": [
    "#I decided to go with the second prompt and I realized I could base a lot of it off my previous code.\n",
    "\n",
    "#Lines 4-5: I am just initializing what I want for my function and my dictionary\n",
    "import random \n",
    "my_cards = {\"HELLO\": \"HOLA\", \"BYE\": \"ADIOS\", \"THANK YOU\": \"GRACIAS\"} \n",
    "\n",
    "#Lines 8-10: I am initializing my class\n",
    "class Card_edits:\n",
    "    def __init__(self, dicts):\n",
    "        self.dicts = dicts\n",
    "    \n",
    "#Lines 13-20: I am making use of my previous code and basic dictionary operations   \n",
    "    def clear_cards(self):\n",
    "        self.dicts.clear()\n",
    "    \n",
    "    def update_cards(self, value):\n",
    "        self.dicts.update(value)\n",
    "    \n",
    "    def translate(self, item):\n",
    "        return self.dicts.get(item)\n",
    "    \n",
    "#Lines 25-34: I built a quiz function. It takes the keys from the dictionary and puts them in a list. \n",
    "#It then picks a random key from that list and prompts the user to write the translation.\n",
    "#It then compares this to the value in the original dictionary and tells the user if they were correct.\n",
    "    def quiz(self):\n",
    "        word_list = []\n",
    "        for i in self.dicts.keys():\n",
    "            word_list.append(i)\n",
    "        test = random.choice(word_list)\n",
    "        guess = input(f\"What is the translation of {test}?\").upper()\n",
    "        if guess == my_cards[test]:\n",
    "            print(\"Correct!\")\n",
    "        else:\n",
    "            print(\"Nope!\")\n",
    "            \n",
    "#Lines 37-42: Testing out each of my class operations        \n",
    "flash = Card_edits(my_cards)\n",
    "flash.update_cards({\"SPRING\": \"PRIMAVERA\"})\n",
    "print(flash.translate(\"SPRING\"))\n",
    "flash.quiz()\n",
    "flash.clear_cards()\n",
    "print(my_cards)"
   ]
  },
  {
   "cell_type": "markdown",
   "id": "90145eb9",
   "metadata": {},
   "source": [
    "5) Finalize your Hangman program and submit it. Include any necessary comments and explain what you had \"refreshed\" by building it in class. If appropriate, use functions or OOP to package the pieces of your code."
   ]
  },
  {
   "cell_type": "code",
   "execution_count": 8,
   "id": "1d239790",
   "metadata": {},
   "outputs": [
    {
     "name": "stdout",
     "output_type": "stream",
     "text": [
      "Hi! I'm a hangman game! >:3\n",
      "Your word is 3 characters long. You have 6 tries.\n",
      "Guess a letter!a\n",
      "Yay!\n",
      "You have 8 more tries.\n",
      "['A', '_', '_']\n",
      "Guess a letter!t\n",
      "Nope!\n",
      "You have 7 more tries.\n",
      "['A', '_', '_']\n",
      "Guess a letter!e\n",
      "Nope!\n",
      "You have 6 more tries.\n",
      "['A', '_', '_']\n",
      "Guess a letter!y\n",
      "Yay!\n",
      "You have 6 more tries.\n",
      "['A', '_', 'Y']\n",
      "Guess a letter!m\n",
      "Nope!\n",
      "You have 5 more tries.\n",
      "['A', '_', 'Y']\n",
      "Guess a letter!n\n",
      "Nope!\n",
      "You have 4 more tries.\n",
      "['A', '_', 'Y']\n",
      "Guess a letter!p\n",
      "Nope!\n",
      "You have 3 more tries.\n",
      "['A', '_', 'Y']\n",
      "Guess a letter!l\n",
      "Nope!\n",
      "You have 2 more tries.\n",
      "['A', '_', 'Y']\n",
      "Guess a letter!r\n",
      "Nope!\n",
      "You have 1 more tries.\n",
      "['A', '_', 'Y']\n",
      "Guess a letter!d\n",
      "Nope!\n",
      "You have 0 more tries.\n",
      "['A', '_', 'Y']\n",
      "You lose!\n",
      "['A', 'B', 'Y']\n"
     ]
    }
   ],
   "source": [
    "#Lines 2-13: Initializing the txt file and generating a random word\n",
    "import random\n",
    "sowpods = \"sowpods.txt\"\n",
    "\n",
    "def word_generator():\n",
    "    global word\n",
    "    filename = sowpods\n",
    "    f = open(filename, \"r\", encoding = \"utf8\")\n",
    "    words = f.readlines()\n",
    "    f.close()\n",
    "    word = random.choice(words).strip()\n",
    "\n",
    "word_generator()\n",
    "\n",
    "#Lines 16-19: The beginning of the game! Setting my lists for the answer and the guesses. Giving info to the player\n",
    "word_guess = []\n",
    "word_answer = []\n",
    "print(\"Hi! I'm a hangman game! >:3\")\n",
    "print(f\"Your word is {len(word)} characters long. You have 6 tries.\")\n",
    "\n",
    "#Lines 22-24: Storing the letters of the word in a list that can be compared and updated throughout the game\n",
    "for i in word:\n",
    "    word_guess.append(\"_\")\n",
    "    word_answer.append(i)  \n",
    "    \n",
    "#Lines 27-28: Storing the guessed letters and setting a limit on the amount of times the player can guess    \n",
    "score = 8\n",
    "letter = []\n",
    "    \n",
    "#Lines 31-52: Initializing my guess function. These are the operations my program runs through everytime a better makes\n",
    "# a guess.\n",
    "def guess():\n",
    "    global score\n",
    "    guess = input(\"Guess a letter!\").upper() #Asking for user input\n",
    "    if guess in letter: #Checks to see if the letters been guessed already, if so -> repeats\n",
    "        print(\"You've already guessed that letter! Try again\")\n",
    "        guess\n",
    "    elif len(guess) != 1: #Checks to see if the user inputed more than one letter\n",
    "        print(\"Only one letter please!\")\n",
    "        guess\n",
    "    else:\n",
    "        letter.append(guess) #Adds letter to list of guessed letters\n",
    "        if guess in word_answer: #Checks to see if the guess is in the answer\n",
    "            print(\"Yay!\")\n",
    "            for i,char in enumerate(word_answer): #If it is, it updated the guess list for the user\n",
    "                if char == guess:\n",
    "                    word_guess[i] = char\n",
    "        else: #If not, it deducts from your tries\n",
    "            score -= 1\n",
    "            print(\"Nope!\")\n",
    "        print(f\"You have {score} more tries.\")\n",
    "        print(word_guess)\n",
    "\n",
    "while score != 0 and word_guess != word_answer: #This is to keep track of if the player either runs out of tries or wins\n",
    "    guess()\n",
    "else:\n",
    "    if word_guess == word_answer: #Appropriate ending sequences\n",
    "        print(\"You win!\")\n",
    "    else:\n",
    "        print(\"You lose!\")\n",
    "        print(word_answer)\n",
    "\n",
    "#Building this in class helped me debug and make things for concise. I was able to ask for help when I wasn't sure how\n",
    "# to get my code to recognize repeated letters. I was also able to make use of functions to make guess a more concise\n",
    "# operation. I was also able to test for every possible answer and to make sure my code wasn't easily broken by the user."
   ]
  },
  {
   "cell_type": "code",
   "execution_count": null,
   "id": "37670a7c",
   "metadata": {},
   "outputs": [],
   "source": []
  }
 ],
 "metadata": {
  "kernelspec": {
   "display_name": "Python 3 (ipykernel)",
   "language": "python",
   "name": "python3"
  },
  "language_info": {
   "codemirror_mode": {
    "name": "ipython",
    "version": 3
   },
   "file_extension": ".py",
   "mimetype": "text/x-python",
   "name": "python",
   "nbconvert_exporter": "python",
   "pygments_lexer": "ipython3",
   "version": "3.9.12"
  }
 },
 "nbformat": 4,
 "nbformat_minor": 5
}
